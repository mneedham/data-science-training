{
 "cells": [
  {
   "cell_type": "markdown",
   "metadata": {
    "colab_type": "text",
    "id": "view-in-github"
   },
   "source": [
    "<a href=\"https://colab.research.google.com/github/mneedham/data-science-training/blob/master/03_Recommendations.ipynb\" target=\"_parent\"><img src=\"https://colab.research.google.com/assets/colab-badge.svg\" alt=\"Open In Colab\"/></a>"
   ]
  },
  {
   "cell_type": "markdown",
   "metadata": {},
   "source": [
    "# Recommendations: Part 2\n",
    "\n",
    "In the 2nd part of our recommendations notebook, we're going to use the PageRank algorithm to make article recommendations to an author. Let's import our libraries in case we don't have those from the previous notebooks:"
   ]
  },
  {
   "cell_type": "code",
   "execution_count": null,
   "metadata": {},
   "outputs": [],
   "source": [
    "from py2neo import Graph\n",
    "import pandas as pd\n",
    "\n",
    "import matplotlib \n",
    "import matplotlib.pyplot as plt\n",
    "\n",
    "plt.style.use('fivethirtyeight')\n",
    "pd.set_option('display.float_format', lambda x: '%.3f' % x)\n",
    "pd.set_option('display.max_colwidth', 100)"
   ]
  },
  {
   "cell_type": "markdown",
   "metadata": {},
   "source": [
    "Now we need to create a connection to our Neo4j Sandbox. \n",
    "\n",
    "<div align=\"left\">\n",
    "    <img src=\"images/sandbox-citations2.png\" alt=\"Neo4j 3.4 Sandbox\"/>\n",
    "</div>\n",
    "\n",
    "We'll need to update the cell below to use the IP Address, Bolt Port, and Password."
   ]
  },
  {
   "cell_type": "code",
   "execution_count": null,
   "metadata": {},
   "outputs": [],
   "source": [
    "# Change the line of code below to use the IP Address, Bolt Port, and Password of your Sandbox.\n",
    "# graph = Graph(\"bolt://<IP Address>:<Bolt Port>\", auth=(\"neo4j\", \"<Password>\")) \n",
    " \n",
    "graph = Graph(\"bolt://34.239.255.86:34057\", auth=(\"neo4j\", \"swords-measurements-routines\"))"
   ]
  },
  {
   "cell_type": "markdown",
   "metadata": {},
   "source": [
    "## PageRank\n",
    "\n",
    "We're going to use the PageRank algorithm, so let's first get up to speed on this algorithm. \n",
    "\n",
    "PageRank is an algorithm that measures the transitive influence or connectivity of nodes. It can be computed by either iteratively distributing one node’s rank (originally based on degree) over its neighbours or by randomly traversing the graph and counting the frequency of hitting each node during these walks.\n",
    "\n",
    "We can run PageRank over the whole graph to find out the most influential article in terms of citations:"
   ]
  },
  {
   "cell_type": "code",
   "execution_count": null,
   "metadata": {},
   "outputs": [],
   "source": [
    "query = \"\"\"\n",
    "CALL algo.pageRank('Article', 'CITED')\n",
    "\"\"\"\n",
    "graph.run(query).data()"
   ]
  },
  {
   "cell_type": "markdown",
   "metadata": {},
   "source": [
    "This query stores a 'pagerank' property on each node. We can write the following query to view the most influential articles:"
   ]
  },
  {
   "cell_type": "markdown",
   "metadata": {},
   "source": [
    "query = \"\"\"\n",
    "MATCH (a:Article)\n",
    "RETURN a.title as article,\n",
    "       a.pagerank as score\n",
    "ORDER BY score DESC \n",
    "LIMIT 10\n",
    "\"\"\"\n",
    "graph.run(query).to_data_frame()"
   ]
  },
  {
   "cell_type": "markdown",
   "metadata": {},
   "source": [
    "## Personalized PageRank\n",
    "\n",
    "Personalized PageRank is a variant of PageRank that allows us to find influential nodes based on a set of source nodes.\n",
    "\n",
    "For example, rather than finding the overall most influential articles, we could instead find the most influential articles with respect to a given author."
   ]
  },
  {
   "cell_type": "code",
   "execution_count": null,
   "metadata": {},
   "outputs": [],
   "source": [
    "query = \"\"\"\n",
    "MATCH (a:Author {name: $author})<-[:AUTHOR]-(article)-[:CITED]->(other)\n",
    "WITH collect(article) + collect(other) AS sourceNodes\n",
    "CALL algo.pageRank.stream('Article', 'CITED', {sourceNodes: sourceNodes})\n",
    "YIELD nodeId, score\n",
    "RETURN algo.getNodeById(nodeId).title AS article, score\n",
    "ORDER BY score DESC\n",
    "LIMIT 10\n",
    "\"\"\"\n",
    "\n",
    "author_name = \"Peter G. Neumann\"\n",
    "graph.run(query, {\"author\": author_name}).to_data_frame()"
   ]
  },
  {
   "cell_type": "markdown",
   "metadata": {},
   "source": [
    "## Topic Sensitive Search\n",
    "\n",
    "We can also use Personalized PageRank to do 'Topic Specific PageRank'. \n",
    "\n",
    "When an author is searcing for articles to read, they want that search to take them into account. Two authors using the same search term would expect to see different results depending on their area of research.\n",
    "\n",
    "We'll start by creating a full text search index on the 'title' and 'abstract' properties of all nodes that have the label 'Article':"
   ]
  },
  {
   "cell_type": "code",
   "execution_count": null,
   "metadata": {},
   "outputs": [],
   "source": [
    "query = \"\"\"\n",
    "    CALL db.index.fulltext.createNodeIndex('articles', ['Article'], ['title', 'abstract'])\n",
    "\"\"\"\n",
    "graph.run(query).data()"
   ]
  },
  {
   "cell_type": "markdown",
   "metadata": {},
   "source": [
    "We can check that our full text index has been created by running the following query:"
   ]
  },
  {
   "cell_type": "code",
   "execution_count": null,
   "metadata": {},
   "outputs": [],
   "source": [
    "query = \"\"\"\n",
    "CALL db.indexes()\n",
    "YIELD description, indexName, tokenNames, properties, state, type, progress\n",
    "WHERE type = \"node_fulltext\"\n",
    "RETURN *\n",
    "\"\"\"\n",
    "graph.run(query).to_data_frame()"
   ]
  },
  {
   "cell_type": "markdown",
   "metadata": {},
   "source": [
    "We can search the full text index like this:"
   ]
  },
  {
   "cell_type": "code",
   "execution_count": null,
   "metadata": {},
   "outputs": [],
   "source": [
    "query = \"\"\"\n",
    "CALL db.index.fulltext.queryNodes(\"articles\", \"open source\")\n",
    "YIELD node, score\n",
    "RETURN node.title, score, [(author)<-[:AUTHOR]-(node) | author.name] AS authors\n",
    "LIMIT 10\n",
    "\"\"\"\n",
    "graph.run(query).to_data_frame()"
   ]
  },
  {
   "cell_type": "markdown",
   "metadata": {},
   "source": [
    "We can write the following query to find the authors that have published the most articles on 'open source':"
   ]
  },
  {
   "cell_type": "code",
   "execution_count": null,
   "metadata": {},
   "outputs": [],
   "source": [
    "query = \"\"\"\n",
    "CALL db.index.fulltext.queryNodes(\"articles\", \"open source\")\n",
    "YIELD node, score\n",
    "MATCH (node)-[:AUTHOR]->(author)\n",
    "RETURN author.name, sum(score) AS totalScore, collect(node.title) AS articles\n",
    "ORDER By totalScore DESC\n",
    "LIMIT 20\n",
    "\"\"\"\n",
    "\n",
    "graph.run(query).to_data_frame()"
   ]
  },
  {
   "cell_type": "markdown",
   "metadata": {},
   "source": [
    "We can now use Full Text Search and Personalized PageRank to find interesting articles for different authors."
   ]
  },
  {
   "cell_type": "code",
   "execution_count": null,
   "metadata": {},
   "outputs": [],
   "source": [
    "query = \"\"\"\n",
    "MATCH (a:Author {name: $author})<-[:AUTHOR]-(article)-[:CITED]->(other)\n",
    "WITH a, collect(article) + collect(other) AS sourceNodes\n",
    "CALL algo.pageRank.stream(\n",
    "  'CALL db.index.fulltext.queryNodes(\"articles\", $searchTerm)\n",
    "   YIELD node, score\n",
    "   RETURN id(node) as id',\n",
    "  'MATCH (a1:Article)-[:CITED]->(a2:Article) \n",
    "   RETURN id(a1) as source,id(a2) as target', \n",
    "  {sourceNodes: sourceNodes,graph:'cypher', params: {searchTerm: $searchTerm}})\n",
    "YIELD nodeId, score\n",
    "WITH algo.getNodeById(nodeId) AS n, score\n",
    "WHERE not(exists((a)<-[:AUTHOR]-(n))) AND score > 0\n",
    "RETURN n.title as article, score, [(n)-[:AUTHOR]->(author) | author.name][..5] AS authors\n",
    "order by score desc limit 10\n",
    "\"\"\"\n",
    "\n",
    "params = {\"author\": \"Tao Xie\", \"searchTerm\": \"open source\"}\n",
    "graph.run(query, params).to_data_frame()"
   ]
  },
  {
   "cell_type": "markdown",
   "metadata": {},
   "source": [
    "Let's try the same query with a different author:"
   ]
  },
  {
   "cell_type": "code",
   "execution_count": null,
   "metadata": {},
   "outputs": [],
   "source": [
    "params = {\"author\": \"Marco Aurélio Gerosa\", \"searchTerm\": \"open source\"}\n",
    "graph.run(query, params).to_data_frame()"
   ]
  }
 ],
 "metadata": {
  "kernelspec": {
   "display_name": "Python 3",
   "language": "python",
   "name": "python3"
  },
  "language_info": {
   "codemirror_mode": {
    "name": "ipython",
    "version": 3
   },
   "file_extension": ".py",
   "mimetype": "text/x-python",
   "name": "python",
   "nbconvert_exporter": "python",
   "pygments_lexer": "ipython3",
   "version": "3.6.7"
  }
 },
 "nbformat": 4,
 "nbformat_minor": 2
}
