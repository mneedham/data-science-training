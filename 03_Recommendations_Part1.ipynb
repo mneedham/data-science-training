{
 "cells": [
  {
   "cell_type": "markdown",
   "metadata": {
    "colab_type": "text",
    "id": "view-in-github"
   },
   "source": [
    "<a href=\"https://colab.research.google.com/github/mneedham/data-science-training/blob/master/03_Recommendations.ipynb\" target=\"_parent\"><img src=\"https://colab.research.google.com/assets/colab-badge.svg\" alt=\"Open In Colab\"/></a>"
   ]
  },
  {
   "cell_type": "markdown",
   "metadata": {},
   "source": [
    "# Recommendations: Part 1\n",
    "\n",
    "In this notebook we're going to learn how to make recommendations using Neo4j. Let's import our libraries in case we don't have those from the previous notebooks:"
   ]
  },
  {
   "cell_type": "code",
   "execution_count": null,
   "metadata": {},
   "outputs": [],
   "source": [
    "from py2neo import Graph\n",
    "import pandas as pd\n",
    "\n",
    "import matplotlib \n",
    "import matplotlib.pyplot as plt\n",
    "\n",
    "plt.style.use('fivethirtyeight')\n",
    "pd.set_option('display.float_format', lambda x: '%.3f' % x)\n",
    "pd.set_option('display.max_colwidth', 100)"
   ]
  },
  {
   "cell_type": "markdown",
   "metadata": {},
   "source": [
    "Now we need to create a connection to our Neo4j Sandbox. \n",
    "\n",
    "<div align=\"left\">\n",
    "    <img src=\"images/sandbox-citations2.png\" alt=\"Neo4j 3.4 Sandbox\"/>\n",
    "</div>\n",
    "\n",
    "We'll need to update the cell below to use the IP Address, Bolt Port, and Password."
   ]
  },
  {
   "cell_type": "code",
   "execution_count": null,
   "metadata": {},
   "outputs": [],
   "source": [
    "# Change the line of code below to use the IP Address, Bolt Port, and Password of your Sandbox.\n",
    "# graph = Graph(\"bolt://<IP Address>:<Bolt Port>\", auth=(\"neo4j\", \"<Password>\")) \n",
    " \n",
    "graph = Graph(\"bolt://34.239.255.86:34057\", auth=(\"neo4j\", \"swords-measurements-routines\"))"
   ]
  },
  {
   "cell_type": "markdown",
   "metadata": {},
   "source": [
    "##  Finding popular authors\n",
    "\n",
    "Since we're going to make collaborator suggestions so let's find authors who have written the most articles so that we have some data to work with."
   ]
  },
  {
   "cell_type": "code",
   "execution_count": null,
   "metadata": {},
   "outputs": [],
   "source": [
    "popular_authors_query = \"\"\"\n",
    "MATCH (author:Author)\n",
    "RETURN author.name, size((author)<-[:AUTHOR]-()) AS articlesPublished\n",
    "ORDER BY articlesPublished DESC\n",
    "LIMIT 10\n",
    "\"\"\"\n",
    "\n",
    "graph.run(popular_authors_query).to_data_frame()"
   ]
  },
  {
   "cell_type": "markdown",
   "metadata": {},
   "source": [
    "Let's pick one of these authors..."
   ]
  },
  {
   "cell_type": "code",
   "execution_count": null,
   "metadata": {},
   "outputs": [],
   "source": [
    "author_name = \"Peter G. Neumann\""
   ]
  },
  {
   "cell_type": "markdown",
   "metadata": {},
   "source": [
    "And let's have a look what articles they've published and how many citations they've received:"
   ]
  },
  {
   "cell_type": "code",
   "execution_count": null,
   "metadata": {},
   "outputs": [],
   "source": [
    "author_articles_query = \"\"\"\n",
    "MATCH (:Author {name: $authorName})<-[:AUTHOR]-(article)\n",
    "RETURN article.title AS article, article.year AS year, size((article)<-[:CITED]-()) AS citations\n",
    "ORDER BY citations DESC\n",
    "LIMIT 20\n",
    "\"\"\"\n",
    "\n",
    "graph.run(author_articles_query,  {\"authorName\": author_name}).to_data_frame()"
   ]
  },
  {
   "cell_type": "markdown",
   "metadata": {},
   "source": [
    "Now let's find the author's collaborators:"
   ]
  },
  {
   "cell_type": "code",
   "execution_count": null,
   "metadata": {},
   "outputs": [],
   "source": [
    "collaborations_query = \"\"\"\n",
    "MATCH (:Author {name: $authorName})<-[:AUTHOR]-(article)-[:AUTHOR]->(coauthor)\n",
    "RETURN coauthor.name AS coauthor, count(*) AS collaborations\n",
    "ORDER BY collaborations DESC\n",
    "LIMIT 10\n",
    "\"\"\"\n",
    "\n",
    "graph.run(collaborations_query,  {\"authorName\": author_name}).to_data_frame()"
   ]
  },
  {
   "cell_type": "markdown",
   "metadata": {},
   "source": [
    "How would we suggest some future collaborators for this author? One way is by looking at the collaborators of their collaborators!"
   ]
  },
  {
   "cell_type": "code",
   "execution_count": null,
   "metadata": {},
   "outputs": [],
   "source": [
    "collaborations_query = \"\"\"\n",
    "MATCH (author:Author {name: $authorName})<-[:AUTHOR]-(article)-[:AUTHOR]->(coauthor),\n",
    "      (coauthor)<-[:AUTHOR]-()-[:AUTHOR]->(coc)\n",
    "WHERE not((coc)<-[:AUTHOR]-()-[:AUTHOR]->(author)) AND coc <> author      \n",
    "RETURN coc.name AS coauthor, count(*) AS collaborations\n",
    "ORDER BY collaborations DESC\n",
    "LIMIT 10\n",
    "\"\"\"\n",
    "\n",
    "graph.run(collaborations_query,  {\"authorName\": author_name}).to_data_frame()"
   ]
  },
  {
   "cell_type": "markdown",
   "metadata": {},
   "source": [
    "Each of these people have collaborated with someone that Peter has worked with before, so they might be able to do an introduction."
   ]
  },
  {
   "cell_type": "markdown",
   "metadata": {},
   "source": [
    "## Exercise\n",
    "\n",
    "* Can you find the top 20 suggested collaborators for 'Brian Fitzgerald' instead of 'Peter G. Neumann'?\n",
    "* How many of these potential collaborators have collaborated with Brian's collaborators more than 3 times?\n",
    "\n",
    "Keep the results of this exercise handy as they form part of the Check your understanding quiz at the end of this module."
   ]
  }
 ],
 "metadata": {
  "kernelspec": {
   "display_name": "Python 3",
   "language": "python",
   "name": "python3"
  },
  "language_info": {
   "codemirror_mode": {
    "name": "ipython",
    "version": 3
   },
   "file_extension": ".py",
   "mimetype": "text/x-python",
   "name": "python",
   "nbconvert_exporter": "python",
   "pygments_lexer": "ipython3",
   "version": "3.6.7"
  }
 },
 "nbformat": 4,
 "nbformat_minor": 2
}
